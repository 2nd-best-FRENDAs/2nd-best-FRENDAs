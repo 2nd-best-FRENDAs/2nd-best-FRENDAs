{
 "cells": [
  {
   "cell_type": "code",
   "execution_count": 21,
   "id": "549c0028-1585-4a77-b95f-05063ea86ad6",
   "metadata": {},
   "outputs": [],
   "source": [
    "import tellurium as te\n",
    "import numpy as np\n",
    "import matplotlib.pyplot as plt\n",
    "import seaborn\n",
    "import os\n",
    "import pandas as pd"
   ]
  },
  {
   "cell_type": "code",
   "execution_count": 12,
   "id": "7ac4de06-31a3-4e60-b50d-09e326a0e4ee",
   "metadata": {},
   "outputs": [],
   "source": [
    "def find_model(start, filename):\n",
    "    for root, dirs, files in os.walk(start):\n",
    "        if filename in files:\n",
    "            return os.path.join(root, filename)"
   ]
  },
  {
   "cell_type": "code",
   "execution_count": 13,
   "id": "3dab8571-e73e-47b2-990b-ee1947a9eee8",
   "metadata": {},
   "outputs": [],
   "source": [
    "start_dir = 'ChemE 546/Project'\n",
    "file_model = 'multi_enzyme_model.txt'\n",
    "file_path = find_model(start_dir, file_model)"
   ]
  },
  {
   "cell_type": "code",
   "execution_count": 14,
   "id": "8f9b9925-2482-4faf-99b5-b3495521427b",
   "metadata": {},
   "outputs": [
    {
     "name": "stdout",
     "output_type": "stream",
     "text": [
      "None\n"
     ]
    }
   ],
   "source": [
    "print(file_path)"
   ]
  },
  {
   "cell_type": "code",
   "execution_count": 15,
   "id": "70dd64b6-27ad-46ba-af5b-b4ae4068c7e4",
   "metadata": {},
   "outputs": [
    {
     "data": {
      "text/plain": [
       "'\\n# Load file and convert to SBML (if not already)\\ndef load_model(filename, filetype): \\n    \"\"\" Input the filename/path of the file, and its syntax.\\n    Output declares whether file was successfully loaded or not\"\"\"\\n    \\n    model_ant = \"multi_enzyme_model.txt\"\\n    with open(model_ant, \"r\") as file:\\n        model_content = file.read()\\n\\n    try:\\n        model_sbml = te.antimonyToSBML(model_content)\\n        model_load = te.loadSBMLModel(model_sbml)\\n        print(\"Successfully loaded file.\")\\n    except Exception as e:\\n        print(\"Could not load file.\", e)\\n'"
      ]
     },
     "execution_count": 15,
     "metadata": {},
     "output_type": "execute_result"
    }
   ],
   "source": [
    "'''\n",
    "# Load file and convert to SBML (if not already)\n",
    "def load_model(filename, filetype): \n",
    "    \"\"\" Input the filename/path of the file, and its syntax.\n",
    "    Output declares whether file was successfully loaded or not\"\"\"\n",
    "    \n",
    "    model_ant = \"multi_enzyme_model.txt\"\n",
    "    with open(model_ant, \"r\") as file:\n",
    "        model_content = file.read()\n",
    "\n",
    "    try:\n",
    "        model_sbml = te.antimonyToSBML(model_content)\n",
    "        model_load = te.loadSBMLModel(model_sbml)\n",
    "        print(\"Successfully loaded file.\")\n",
    "    except Exception as e:\n",
    "        print(\"Could not load file.\", e)\n",
    "'''"
   ]
  },
  {
   "cell_type": "code",
   "execution_count": 16,
   "id": "134c740c-012f-4a0d-b8d6-bc516fd7ee4a",
   "metadata": {},
   "outputs": [],
   "source": [
    "# Load file and convert to SBML\n",
    "# If file is in SBML, function will still load the model\n",
    "\n",
    "def load_model(filename, filetype): \n",
    "    \"\"\" \n",
    "    filename: .txt, .csv, biomodels website\n",
    "    filetype: ant, sbml\n",
    "    \n",
    "    Input the filename/path of the file, and its syntax.\n",
    "    Output declares whether file was successfully loaded or not\n",
    "    \"\"\"\n",
    "    model_ant = filename\n",
    "    with open(model_ant, \"r\") as file:\n",
    "        model_content = file.read()\n",
    "    if filetype=='antimony':\n",
    "        try:\n",
    "            model_sbml = te.antimonyToSBML(model_content)\n",
    "            model_load = te.loadSBMLModel(model_sbml)\n",
    "            print(f\"Successfully converted file '{filename}' from {filetype} to SBML and loaded.\")\n",
    "        except Exception as e:\n",
    "            print(\"Could not load file.\", e)\n",
    "    else: \n",
    "        try:\n",
    "            model_load = te.loadSBMLModel(model_content)\n",
    "            print(f\"Successfully loaded SBML file {filename}.\")\n",
    "        except Exception as e:\n",
    "            print(\"Could not load SBML file.\", e)\n",
    "    return model_load"
   ]
  },
  {
   "cell_type": "code",
   "execution_count": 17,
   "id": "a50152a0-7ebd-4822-b13d-58d8e64b7c5f",
   "metadata": {},
   "outputs": [
    {
     "name": "stdout",
     "output_type": "stream",
     "text": [
      "Successfully converted file 'multi_enzyme_model.txt' from antimony to SBML and loaded.\n"
     ]
    },
    {
     "data": {
      "text/plain": [
       "<roadrunner.RoadRunner() { this = 0x5639d10 }>"
      ]
     },
     "execution_count": 17,
     "metadata": {},
     "output_type": "execute_result"
    }
   ],
   "source": [
    "load_model('multi_enzyme_model.txt', 'antimony')"
   ]
  },
  {
   "cell_type": "code",
   "execution_count": 18,
   "id": "5db84c31-3c10-454f-bc0c-af5fe52adfe8",
   "metadata": {},
   "outputs": [
    {
     "ename": "NameError",
     "evalue": "name 'model_load' is not defined",
     "output_type": "error",
     "traceback": [
      "\u001b[0;31m---------------------------------------------------------------------------\u001b[0m",
      "\u001b[0;31mNameError\u001b[0m                                 Traceback (most recent call last)",
      "Cell \u001b[0;32mIn[18], line 1\u001b[0m\n\u001b[0;32m----> 1\u001b[0m r \u001b[38;5;241m=\u001b[39m te\u001b[38;5;241m.\u001b[39mloadSBMLModel(\u001b[43mmodel_load\u001b[49m)\n\u001b[1;32m      2\u001b[0m result \u001b[38;5;241m=\u001b[39m r\u001b[38;5;241m.\u001b[39msimulate(\u001b[38;5;241m0\u001b[39m, \u001b[38;5;241m50\u001b[39m, \u001b[38;5;241m101\u001b[39m) \n\u001b[1;32m      3\u001b[0m r\u001b[38;5;241m.\u001b[39mplot()\n",
      "\u001b[0;31mNameError\u001b[0m: name 'model_load' is not defined"
     ]
    }
   ],
   "source": [
    "r = te.loadSBMLModel(model_load)\n",
    "result = r.simulate(0, 50, 101) \n",
    "r.plot()"
   ]
  },
  {
   "cell_type": "code",
   "execution_count": 19,
   "id": "a9cb00be-6619-4779-9ec8-fc69c0b99e98",
   "metadata": {},
   "outputs": [
    {
     "ename": "NameError",
     "evalue": "name 'result' is not defined",
     "output_type": "error",
     "traceback": [
      "\u001b[0;31m---------------------------------------------------------------------------\u001b[0m",
      "\u001b[0;31mNameError\u001b[0m                                 Traceback (most recent call last)",
      "Cell \u001b[0;32mIn[19], line 2\u001b[0m\n\u001b[1;32m      1\u001b[0m \u001b[38;5;66;03m# Extract time and species data\u001b[39;00m\n\u001b[0;32m----> 2\u001b[0m time \u001b[38;5;241m=\u001b[39m \u001b[43mresult\u001b[49m[:, \u001b[38;5;241m0\u001b[39m]\n\u001b[1;32m      3\u001b[0m species_data \u001b[38;5;241m=\u001b[39m result[:, \u001b[38;5;241m1\u001b[39m:]\n\u001b[1;32m      4\u001b[0m \u001b[38;5;66;03m# Convert to DataFrame\u001b[39;00m\n",
      "\u001b[0;31mNameError\u001b[0m: name 'result' is not defined"
     ]
    }
   ],
   "source": [
    "# Extract time and species data\n",
    "time = result[:, 0]\n",
    "species_data = result[:, 1:]\n",
    "# Convert to DataFrame\n",
    "columns = ['Time'] + [f'Species_{i}' for i in range(species_data.shape[1])]\n",
    "df = pd.DataFrame(data=result, columns=columns)\n",
    "# Save DataFrame to Excel\n",
    "df.to_excel('simulation_data.xlsx', index=False)"
   ]
  },
  {
   "cell_type": "code",
   "execution_count": 20,
   "id": "6d8297cd-3f67-48a1-becc-8cfd561603d3",
   "metadata": {},
   "outputs": [
    {
     "ename": "NameError",
     "evalue": "name 'df' is not defined",
     "output_type": "error",
     "traceback": [
      "\u001b[0;31m---------------------------------------------------------------------------\u001b[0m",
      "\u001b[0;31mNameError\u001b[0m                                 Traceback (most recent call last)",
      "Cell \u001b[0;32mIn[20], line 1\u001b[0m\n\u001b[0;32m----> 1\u001b[0m \u001b[43mdf\u001b[49m\n",
      "\u001b[0;31mNameError\u001b[0m: name 'df' is not defined"
     ]
    }
   ],
   "source": [
    "df"
   ]
  },
  {
   "cell_type": "code",
   "execution_count": 7,
   "id": "efcedfc2-f8b4-4a63-82b6-baa1a6580410",
   "metadata": {},
   "outputs": [],
   "source": [
    "#pip install streamlit"
   ]
  },
  {
   "cell_type": "markdown",
   "id": "9c67fff2-3bd5-4d51-9e8b-846ede73aaaf",
   "metadata": {},
   "source": [
    "## Plotting function (kingsley)"
   ]
  },
  {
   "cell_type": "code",
   "execution_count": null,
   "id": "40dc7b0f-044c-4a82-bf13-6da3baa68807",
   "metadata": {},
   "outputs": [],
   "source": []
  }
 ],
 "metadata": {
  "kernelspec": {
   "display_name": "Python 3 (ipykernel)",
   "language": "python",
   "name": "python3"
  },
  "language_info": {
   "codemirror_mode": {
    "name": "ipython",
    "version": 3
   },
   "file_extension": ".py",
   "mimetype": "text/x-python",
   "name": "python",
   "nbconvert_exporter": "python",
   "pygments_lexer": "ipython3",
   "version": "3.11.5"
  }
 },
 "nbformat": 4,
 "nbformat_minor": 5
}
