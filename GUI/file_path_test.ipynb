{
 "cells": [
  {
   "cell_type": "code",
   "execution_count": 1,
   "id": "9cbb49b7-ceb2-434b-9bfa-3c81ee474119",
   "metadata": {},
   "outputs": [],
   "source": [
    "from datetime import datetime\n",
    "import matplotlib.pyplot as plt\n",
    "import numpy as np\n",
    "import os\n",
    "import pandas as pd\n",
    "import tellurium as te"
   ]
  },
  {
   "cell_type": "code",
   "execution_count": 2,
   "id": "537fc43b-2bb4-419d-8b28-d0d01c1de773",
   "metadata": {},
   "outputs": [],
   "source": [
    "# Specify the path to the SBML file\n",
    "sbml_file_path = \"multi_enzyme_model.txt\"\n",
    "\n",
    "with open(sbml_file_path, \"r\") as file:\n",
    "    # Read the contents of the SBML file\n",
    "    model_content = file.read()\n",
    "    filename = file.name"
   ]
  },
  {
   "cell_type": "code",
   "execution_count": 3,
   "id": "e34c8fc7-855b-44d2-a1e0-30eaf5d78971",
   "metadata": {},
   "outputs": [
    {
     "name": "stdout",
     "output_type": "stream",
     "text": [
      "Successfully loaded file.\n"
     ]
    }
   ],
   "source": [
    "#model_ant = \"multi_enzyme_model.txt\"\n",
    "#with open(model_ant, \"r\") as file:\n",
    "#    model_content = file.read()\n",
    "\n",
    "try:\n",
    "    model_sbml = te.antimonyToSBML(model_content)\n",
    "    model_load = te.loadSBMLModel(model_sbml)\n",
    "    print(\"Successfully loaded file.\")\n",
    "except Exception as e:\n",
    "    print(\"Could not load file.\", e)"
   ]
  },
  {
   "cell_type": "code",
   "execution_count": 7,
   "id": "9a209006-01f3-4575-8baa-eba77b324f14",
   "metadata": {},
   "outputs": [
    {
     "name": "stdout",
     "output_type": "stream",
     "text": [
      "<roadrunner.RoadRunner() { \n",
      "'this' : 0x4a625f0\n",
      "'modelLoaded' : true\n",
      "'modelName' : __main\n",
      "'libSBMLVersion' : LibSBML Version: 5.19.5\n",
      "'jacobianStepSize' : 1e-05\n",
      "'steadyStateThreshold' : 0.01\n",
      "'fluxThreshold' : 1e-09\n",
      "'conservedMoietyAnalysis' : false\n",
      "'simulateOptions' : \n",
      "< roadrunner.SimulateOptions() \n",
      "{ \n",
      "'this' : 0x4a62c88, \n",
      "'reset' : 0,\n",
      "'structuredResult' : 0,\n",
      "'copyResult' : 1,\n",
      "'steps' : 50,\n",
      "'start' : 0,\n",
      "'duration' : 10\n",
      "'output_file' : \n",
      "}>, \n",
      "'integrator' : \n",
      "< roadrunner.Integrator() >\n",
      "  name: cvode\n",
      "  settings:\n",
      "      relative_tolerance: 1e-06\n",
      "      absolute_tolerance: 1e-12\n",
      "                   stiff: true\n",
      "       maximum_bdf_order: 5\n",
      "     maximum_adams_order: 12\n",
      "       maximum_num_steps: 20000\n",
      "       maximum_time_step: 0\n",
      "       minimum_time_step: 0\n",
      "       initial_time_step: 0\n",
      "          multiple_steps: false\n",
      "      variable_step_size: false\n",
      "         max_output_rows: 100000\n",
      "\n",
      "}>\n"
     ]
    }
   ],
   "source": [
    "print(model_load)"
   ]
  },
  {
   "cell_type": "code",
   "execution_count": 9,
   "id": "7ac8c77d-8d90-4e99-853d-5da9f8e765eb",
   "metadata": {},
   "outputs": [],
   "source": [
    "t0 = 0\n",
    "t1 = 10\n",
    "steps = 5\n",
    "result = model_load.simulate(t0, t1, steps) \n",
    "\n",
    "# Convert to DataFrame\n",
    "species_names = model_load.getFloatingSpeciesIds()\n",
    "columns = ['Time'] + [str(i) for i in species_names]\n",
    "df = pd.DataFrame(data=result, columns=columns)"
   ]
  },
  {
   "cell_type": "code",
   "execution_count": 10,
   "id": "b4c42ec5-d3a7-4c1e-ac7f-d386707f7421",
   "metadata": {},
   "outputs": [
    {
     "name": "stdout",
     "output_type": "stream",
     "text": [
      "   Time    SERINE     HCO3  PYRUVICACID  MALICACID  OXALOACETICACID  NH3  \\\n",
      "0   0.0  2.171856  73.5294          0.0        0.0              0.0  0.0   \n",
      "1   2.5  1.769269  73.5294          0.0        0.0              0.0  0.0   \n",
      "2   5.0  1.441365  73.5294          0.0        0.0              0.0  0.0   \n",
      "3   7.5  1.174230  73.5294          0.0        0.0              0.0  0.0   \n",
      "4  10.0  0.956602  73.5294          0.0        0.0              0.0  0.0   \n",
      "\n",
      "       ATP  ADP     NADH  ...  DNA_SDA_ECOLI  DNA_SDA_LPNEU  DNA_PCX_RETLI  \\\n",
      "0  4.93095  0.0  7.53695  ...            0.0            0.0            0.0   \n",
      "1  4.93095  0.0  7.53695  ...            0.0            0.0            0.0   \n",
      "2  4.93095  0.0  7.53695  ...            0.0            0.0            0.0   \n",
      "3  4.93095  0.0  7.53695  ...            0.0            0.0            0.0   \n",
      "4  4.93095  0.0  7.53695  ...            0.0            0.0            0.0   \n",
      "\n",
      "   DNA_PCX_SCER  DNA_PCX_MSMEG  DNA_PCX_GTHERM  DNA_MDH_ECOLI  DNA_MDH_MDOM  \\\n",
      "0           0.0            0.0             0.0            0.0           0.0   \n",
      "1           0.0            0.0             0.0            0.0           0.0   \n",
      "2           0.0            0.0             0.0            0.0           0.0   \n",
      "3           0.0            0.0             0.0            0.0           0.0   \n",
      "4           0.0            0.0             0.0            0.0           0.0   \n",
      "\n",
      "   DNA_MDH_REMER  DNA_MDH_TAES  \n",
      "0            0.0           0.0  \n",
      "1            0.0           0.0  \n",
      "2            0.0           0.0  \n",
      "3            0.0           0.0  \n",
      "4            0.0           0.0  \n",
      "\n",
      "[5 rows x 35 columns]\n"
     ]
    }
   ],
   "source": [
    "print(df)"
   ]
  },
  {
   "cell_type": "code",
   "execution_count": null,
   "id": "478ac019-fe20-4b7b-bef6-ffb872947aac",
   "metadata": {},
   "outputs": [],
   "source": []
  }
 ],
 "metadata": {
  "kernelspec": {
   "display_name": "Python 3 (ipykernel)",
   "language": "python",
   "name": "python3"
  },
  "language_info": {
   "codemirror_mode": {
    "name": "ipython",
    "version": 3
   },
   "file_extension": ".py",
   "mimetype": "text/x-python",
   "name": "python",
   "nbconvert_exporter": "python",
   "pygments_lexer": "ipython3",
   "version": "3.11.5"
  }
 },
 "nbformat": 4,
 "nbformat_minor": 5
}
