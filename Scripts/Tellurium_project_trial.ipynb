{
 "cells": [
  {
   "cell_type": "code",
   "execution_count": 1,
   "id": "dcce80e6-e43a-4cdf-b7d6-b2d9c0596f8c",
   "metadata": {},
   "outputs": [],
   "source": [
    "import tellurium as te\n",
    "import numpy as np\n",
    "import matplotlib.pyplot as plt\n",
    "import os\n",
    "import pandas as pd\n",
    "from datetime import datetime"
   ]
  },
  {
   "cell_type": "code",
   "execution_count": 2,
   "id": "37014bba-abfa-4371-a28c-63eb4bbeb957",
   "metadata": {},
   "outputs": [],
   "source": [
    "def find_model(start, filename):\n",
    "    for root, dirs, files in os.walk(start):\n",
    "        if filename in files:\n",
    "            return os.path.join(root, filename)"
   ]
  },
  {
   "cell_type": "code",
   "execution_count": 3,
   "id": "08f5ba33-05e6-4dd6-b78c-8d5be12098bc",
   "metadata": {},
   "outputs": [],
   "source": [
    "start_dir = 'ChemE 546/Project'\n",
    "file_model = 'multi_enzyme_model.txt'\n",
    "file_path = find_model(start_dir, file_model)"
   ]
  },
  {
   "cell_type": "code",
   "execution_count": 4,
   "id": "8e3b6b22-d160-4642-b6ec-e1e50ed12289",
   "metadata": {},
   "outputs": [
    {
     "name": "stdout",
     "output_type": "stream",
     "text": [
      "None\n"
     ]
    }
   ],
   "source": [
    "print(file_path)"
   ]
  },
  {
   "cell_type": "code",
   "execution_count": 5,
   "id": "98728325-3375-4480-9e7b-ddf09ea69824",
   "metadata": {},
   "outputs": [
    {
     "data": {
      "text/plain": [
       "'\\n# Load file and convert to SBML (if not already)\\ndef load_model(filename, filetype): \\n    \"\"\" Input the filename/path of the file, and its syntax.\\n    Output declares whether file was successfully loaded or not\"\"\"\\n    \\n    model_ant = \"multi_enzyme_model.txt\"\\n    with open(model_ant, \"r\") as file:\\n        model_content = file.read()\\n\\n    try:\\n        model_sbml = te.antimonyToSBML(model_content)\\n        model_load = te.loadSBMLModel(model_sbml)\\n        print(\"Successfully loaded file.\")\\n    except Exception as e:\\n        print(\"Could not load file.\", e)\\n'"
      ]
     },
     "execution_count": 5,
     "metadata": {},
     "output_type": "execute_result"
    }
   ],
   "source": [
    "'''\n",
    "# Load file and convert to SBML (if not already)\n",
    "def load_model(filename, filetype): \n",
    "    \"\"\" Input the filename/path of the file, and its syntax.\n",
    "    Output declares whether file was successfully loaded or not\"\"\"\n",
    "    \n",
    "    model_ant = \"multi_enzyme_model.txt\"\n",
    "    with open(model_ant, \"r\") as file:\n",
    "        model_content = file.read()\n",
    "\n",
    "    try:\n",
    "        model_sbml = te.antimonyToSBML(model_content)\n",
    "        model_load = te.loadSBMLModel(model_sbml)\n",
    "        print(\"Successfully loaded file.\")\n",
    "    except Exception as e:\n",
    "        print(\"Could not load file.\", e)\n",
    "'''"
   ]
  },
  {
   "cell_type": "code",
   "execution_count": 6,
   "id": "5afea0b6-4679-4b71-a9be-dbea0f3f065c",
   "metadata": {},
   "outputs": [],
   "source": [
    "# Load file and convert to SBML\n",
    "# If file is in SBML, function will still load the model\n",
    "\n",
    "def load_model(filename, filetype): \n",
    "    \"\"\" \n",
    "    filename: .txt, .csv, biomodels website\n",
    "    filetype: ant, sbml\n",
    "    \n",
    "    Input the filename/path of the file, and its syntax.\n",
    "    Output declares whether file was successfully loaded or not\n",
    "    \"\"\"\n",
    "    model_ant = filename\n",
    "    with open(model_ant, \"r\") as file:\n",
    "        model_content = file.read()\n",
    "    if filetype=='antimony':\n",
    "        try:\n",
    "            model_sbml = te.antimonyToSBML(model_content)\n",
    "            model_load = te.loadSBMLModel(model_sbml)\n",
    "            print(f\"Successfully converted file '{filename}' from {filetype} to SBML and loaded.\")\n",
    "        except Exception as e:\n",
    "            print(\"Could not load file.\", e)\n",
    "    else: \n",
    "        try:\n",
    "            model_load = te.loadSBMLModel(model_content)\n",
    "            print(f\"Successfully loaded SBML file {filename}.\")\n",
    "        except Exception as e:\n",
    "            print(\"Could not load SBML file.\", e)\n",
    "    return model_load"
   ]
  },
  {
   "cell_type": "code",
   "execution_count": 22,
   "id": "a8abfcd8-4e7a-4ca4-af63-725873d1b14f",
   "metadata": {},
   "outputs": [
    {
     "name": "stdout",
     "output_type": "stream",
     "text": [
      "Successfully converted file 'multi_enzyme_model.txt' from antimony to SBML and loaded.\n"
     ]
    },
    {
     "data": {
      "text/plain": [
       "<roadrunner.RoadRunner() { this = 0x3fb19a0 }>"
      ]
     },
     "execution_count": 22,
     "metadata": {},
     "output_type": "execute_result"
    }
   ],
   "source": [
    "load_model('multi_enzyme_model.txt', 'antimony')"
   ]
  },
  {
   "cell_type": "code",
   "execution_count": 23,
   "id": "74964eb0-7f66-470d-8b19-7fde5b7f83a0",
   "metadata": {},
   "outputs": [],
   "source": [
    "def simulate_model(model, t0, t1, steps):\n",
    "    # load SBML model into tellurium\n",
    "    r = te.loadSBMLModel(model)\n",
    "    \n",
    "    # simulate based on time interval and time steps\n",
    "    result = r.simulate(t0, t1, steps) \n",
    "    \n",
    "    # Convert to DataFrame\n",
    "    species_names = r.getFloatingSpeciesIds()\n",
    "    columns = ['Time'] + [str(i) for i in species_names]\n",
    "    df = pd.DataFrame(data=result, columns=columns)\n",
    "    \n",
    "    return r, result, df, species_name"
   ]
  },
  {
   "cell_type": "code",
   "execution_count": 24,
   "id": "67a1bebb-6109-48b9-864a-829e4c3c1786",
   "metadata": {},
   "outputs": [],
   "source": [
    "def export_csv(model):\n",
    "    # Grab current time and date, make variable to display date\n",
    "    now = datetime.now()\n",
    "    current_time = now.strftime(\"%Y%m%d_%H.%M.%S\")\n",
    "    \n",
    "    # Save DataFrame to .csv\n",
    "    model.to_csv(current_time + ' simulation_data.csv', index=False)\n",
    "    \n",
    "    return"
   ]
  },
  {
   "cell_type": "code",
   "execution_count": 25,
   "id": "2140d1fa-dba9-4274-aa68-d8750a055170",
   "metadata": {},
   "outputs": [
    {
     "ename": "NameError",
     "evalue": "name 'model_load' is not defined",
     "output_type": "error",
     "traceback": [
      "\u001b[0;31m---------------------------------------------------------------------------\u001b[0m",
      "\u001b[0;31mNameError\u001b[0m                                 Traceback (most recent call last)",
      "Cell \u001b[0;32mIn[25], line 1\u001b[0m\n\u001b[0;32m----> 1\u001b[0m simulate_model(\u001b[43mmodel_load\u001b[49m, \u001b[38;5;241m0\u001b[39m, \u001b[38;5;241m50\u001b[39m, \u001b[38;5;241m101\u001b[39m)\n",
      "\u001b[0;31mNameError\u001b[0m: name 'model_load' is not defined"
     ]
    }
   ],
   "source": [
    "simulate_model(model_load, 0, 50, 101)"
   ]
  },
  {
   "cell_type": "code",
   "execution_count": 26,
   "id": "684cc856-eed5-4eec-8124-6d128b2af9a5",
   "metadata": {},
   "outputs": [
    {
     "ename": "NameError",
     "evalue": "name 'df' is not defined",
     "output_type": "error",
     "traceback": [
      "\u001b[0;31m---------------------------------------------------------------------------\u001b[0m",
      "\u001b[0;31mNameError\u001b[0m                                 Traceback (most recent call last)",
      "Cell \u001b[0;32mIn[26], line 2\u001b[0m\n\u001b[1;32m      1\u001b[0m \u001b[38;5;66;03m# Extract time and species data\u001b[39;00m\n\u001b[0;32m----> 2\u001b[0m time \u001b[38;5;241m=\u001b[39m \u001b[43mdf\u001b[49m[\u001b[38;5;124m'\u001b[39m\u001b[38;5;124mTime\u001b[39m\u001b[38;5;124m'\u001b[39m]\u001b[38;5;241m.\u001b[39mvalues\n\u001b[1;32m      3\u001b[0m species_data \u001b[38;5;241m=\u001b[39m df\u001b[38;5;241m.\u001b[39miloc[:, \u001b[38;5;241m1\u001b[39m:]\n\u001b[1;32m      5\u001b[0m \u001b[38;5;66;03m# Specify the subset of species to plot\u001b[39;00m\n\u001b[1;32m      6\u001b[0m \u001b[38;5;66;03m# This list will have to be generated with the GUI such that each species selected gets appended.\u001b[39;00m\n",
      "\u001b[0;31mNameError\u001b[0m: name 'df' is not defined"
     ]
    }
   ],
   "source": [
    "# Extract time and species data\n",
    "time = df['Time'].values\n",
    "species_data = df.iloc[:, 1:]\n",
    "\n",
    "# Specify the subset of species to plot\n",
    "# This list will have to be generated with the GUI such that each species selected gets appended.\n",
    "species_list = ['SERINE', 'MALICACID']\n",
    "\n",
    "def compare_species_plot(dataframe, species_list):\n",
    "    for species in species_list:\n",
    "        plt.plot(dataframe['Time'], dataframe[species])\n",
    "    plt.xlabel('Time')\n",
    "    plt.ylabel('Concentration')\n",
    "    plt.legend(species_list)\n",
    "    plt.show()\n",
    "\n",
    "compare_species_plot(df, species_list)"
   ]
  },
  {
   "cell_type": "code",
   "execution_count": null,
   "id": "c50d7667-19f4-444b-90f5-be9358d33e98",
   "metadata": {},
   "outputs": [],
   "source": [
    "def all_species_plot(dataframe):\n",
    "    for species in species_names:\n",
    "        plt.plot(dataframe['Time'], dataframe[species])\n",
    "    plt.xlabel('Time')\n",
    "    plt.ylabel('Concentration')\n",
    "    plt.legend(species_names)\n",
    "    plt.show()\n",
    "\n",
    "compare_species_plot(df, species_names)"
   ]
  }
 ],
 "metadata": {
  "kernelspec": {
   "display_name": "Python 3 (ipykernel)",
   "language": "python",
   "name": "python3"
  },
  "language_info": {
   "codemirror_mode": {
    "name": "ipython",
    "version": 3
   },
   "file_extension": ".py",
   "mimetype": "text/x-python",
   "name": "python",
   "nbconvert_exporter": "python",
   "pygments_lexer": "ipython3",
   "version": "3.11.5"
  }
 },
 "nbformat": 4,
 "nbformat_minor": 5
}
